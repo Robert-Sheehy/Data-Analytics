{
  "cells": [
    {
      "metadata": {},
      "cell_type": "markdown",
      "source": "*   Keyboard shortcuts\n*   --pylab inline\n*   smaller code blocks\n*   shell commands"
    },
    {
      "metadata": {},
      "cell_type": "markdown",
      "source": "# Summary Statistics"
    },
    {
      "metadata": {},
      "cell_type": "markdown",
      "source": "There are multiple ways to obtain summary statistics for your data in Python. Below, we will demonstrate how to do so using pandas and NumPy."
    },
    {
      "metadata": {
        "trusted": true
      },
      "cell_type": "code",
      "source": "import pandas as pd\nimport numpy as np\nfrom random import randint",
      "execution_count": 1,
      "outputs": []
    },
    {
      "metadata": {
        "trusted": true
      },
      "cell_type": "code",
      "source": "values1 = np.random.randint(500, size=(10000))\n# Defines a ndarray with 10000 random numbers in the range [0-500)\nvalues2 = pd.Series(np.random.randint(500, size=(10000))) # Defines a pandas Series similar to the above ndarray",
      "execution_count": 2,
      "outputs": []
    },
    {
      "metadata": {},
      "cell_type": "markdown",
      "source": "pandas series are implemented as labeled ndarrays, and hence all statistical methods available for ndarrays can be used with this data structure as well. Below, see the first 10 elements generated for each list of values (note the explicit indexing displayed in the pandas series)."
    },
    {
      "metadata": {
        "trusted": true
      },
      "cell_type": "code",
      "source": "values1[:10]",
      "execution_count": 3,
      "outputs": [
        {
          "output_type": "execute_result",
          "execution_count": 3,
          "data": {
            "text/plain": "array([428,  86,  87, 236, 464, 435, 434, 164, 276, 367])"
          },
          "metadata": {}
        }
      ]
    },
    {
      "metadata": {
        "trusted": true
      },
      "cell_type": "code",
      "source": "values2[:10]",
      "execution_count": 4,
      "outputs": [
        {
          "output_type": "execute_result",
          "execution_count": 4,
          "data": {
            "text/plain": "0    259\n1    228\n2     59\n3    494\n4    417\n5    183\n6    312\n7    310\n8     68\n9    132\ndtype: int64"
          },
          "metadata": {}
        }
      ]
    },
    {
      "metadata": {},
      "cell_type": "markdown",
      "source": "Built-in methods are available for all basic statistics. Some are demonstrated below:"
    },
    {
      "metadata": {
        "trusted": true
      },
      "cell_type": "code",
      "source": "print ('MIN(values1) = ' + str(values1.min()) + '\\t\\t\\tMIN(values2) = ' + str(values2.min()))\nprint ('MAX(values1) = ' + str(values1.max()) + '\\t\\t\\tMAX(values2) = ' + str(values2.max()) )\nprint ('RANGE(values1) = ' + str(values1.ptp()) + '\\t\\t\\tRANGE(values2) = ' + str(values2.ptp()))\nprint ('MEAN(values1) = ' + str(values1.mean()) + '\\t\\tMEAN(values2) = ' + str(values2.mean()))\nprint ('STD(values1) = ' + str(values1.std()) + '\\tSTD(values2) = ' + str(values2.std()))\nprint ('VARIANCE(values1) = ' + str(values1.var()) + '\\tVARIANCE(values2) = ' + str(values2.var()))",
      "execution_count": 5,
      "outputs": [
        {
          "output_type": "stream",
          "text": "MIN(values1) = 0\t\t\tMIN(values2) = 0\nMAX(values1) = 499\t\t\tMAX(values2) = 499\nRANGE(values1) = 499\t\t\tRANGE(values2) = 499\nMEAN(values1) = 250.587\t\tMEAN(values2) = 248.2052\nSTD(values1) = 145.13144259945878\tSTD(values2) = 143.49684256924508\nVARIANCE(values1) = 21063.135631\tVARIANCE(values2) = 20591.343827342705\n",
          "name": "stdout"
        }
      ]
    },
    {
      "metadata": {},
      "cell_type": "markdown",
      "source": "Additionally, pandas series have a method called *describe()* that returns a nice summary of these basic statistics."
    },
    {
      "metadata": {
        "trusted": true
      },
      "cell_type": "code",
      "source": "values2.describe()",
      "execution_count": 6,
      "outputs": [
        {
          "output_type": "execute_result",
          "execution_count": 6,
          "data": {
            "text/plain": "count    10000.000000\nmean       248.205200\nstd        143.496843\nmin          0.000000\n25%        125.000000\n50%        248.000000\n75%        372.000000\nmax        499.000000\ndtype: float64"
          },
          "metadata": {}
        }
      ]
    },
    {
      "metadata": {},
      "cell_type": "markdown",
      "source": "For non-numerical series objects, *describe()* will return a simple summary of the number of unique values and most frequently occurring ones."
    },
    {
      "metadata": {
        "trusted": true
      },
      "cell_type": "code",
      "source": "s = pd.Series(['a', 'a', 'b', 'b', 'a', 'a', np.nan, 'c', 'd', 'a'])\ns.describe()",
      "execution_count": 7,
      "outputs": [
        {
          "output_type": "execute_result",
          "execution_count": 7,
          "data": {
            "text/plain": "count     9\nunique    4\ntop       a\nfreq      5\ndtype: object"
          },
          "metadata": {}
        }
      ]
    },
    {
      "metadata": {},
      "cell_type": "markdown",
      "source": "*np.nan* is used to denote missing values. By default, the statistical methods implemented in pandas skip these values, which is not always the case when we are dealing with ndarrays. This behavior can be altered by including the *skipna=False* flag when calling a method."
    },
    {
      "metadata": {},
      "cell_type": "markdown",
      "source": "## Handling missing data with pandas"
    },
    {
      "metadata": {},
      "cell_type": "markdown",
      "source": "pandas has great support for missing data. For full documentation, [check this page](http://pandas.pydata.org/pandas-docs/dev/missing_data.html). Below are a few examples of how to work with missing data using pandas."
    },
    {
      "metadata": {
        "trusted": true
      },
      "cell_type": "code",
      "source": "df = pd.DataFrame(np.random.randn(5, 3), index=['a', 'c', 'e', 'f', 'h'], columns=['one', 'two', 'three'])\ndf",
      "execution_count": 8,
      "outputs": [
        {
          "output_type": "execute_result",
          "execution_count": 8,
          "data": {
            "text/html": "<div>\n<style scoped>\n    .dataframe tbody tr th:only-of-type {\n        vertical-align: middle;\n    }\n\n    .dataframe tbody tr th {\n        vertical-align: top;\n    }\n\n    .dataframe thead th {\n        text-align: right;\n    }\n</style>\n<table border=\"1\" class=\"dataframe\">\n  <thead>\n    <tr style=\"text-align: right;\">\n      <th></th>\n      <th>one</th>\n      <th>two</th>\n      <th>three</th>\n    </tr>\n  </thead>\n  <tbody>\n    <tr>\n      <th>a</th>\n      <td>-0.681193</td>\n      <td>-0.214976</td>\n      <td>-0.790844</td>\n    </tr>\n    <tr>\n      <th>c</th>\n      <td>-1.313181</td>\n      <td>0.805463</td>\n      <td>1.087081</td>\n    </tr>\n    <tr>\n      <th>e</th>\n      <td>-0.719149</td>\n      <td>0.618022</td>\n      <td>-0.613357</td>\n    </tr>\n    <tr>\n      <th>f</th>\n      <td>1.481327</td>\n      <td>-0.354071</td>\n      <td>1.004685</td>\n    </tr>\n    <tr>\n      <th>h</th>\n      <td>0.477954</td>\n      <td>-1.834039</td>\n      <td>-0.378837</td>\n    </tr>\n  </tbody>\n</table>\n</div>",
            "text/plain": "        one       two     three\na -0.681193 -0.214976 -0.790844\nc -1.313181  0.805463  1.087081\ne -0.719149  0.618022 -0.613357\nf  1.481327 -0.354071  1.004685\nh  0.477954 -1.834039 -0.378837"
          },
          "metadata": {}
        }
      ]
    },
    {
      "metadata": {},
      "cell_type": "markdown",
      "source": "Above we created a DataFrame with 5 rows and 3 columns and filled it with random numbers. Next we will add two more columns."
    },
    {
      "metadata": {
        "trusted": true
      },
      "cell_type": "code",
      "source": "df['four'] = 'bar'\ndf['five'] = df['one'] > 0",
      "execution_count": 9,
      "outputs": []
    },
    {
      "metadata": {
        "trusted": true
      },
      "cell_type": "code",
      "source": "df",
      "execution_count": 10,
      "outputs": [
        {
          "output_type": "execute_result",
          "execution_count": 10,
          "data": {
            "text/html": "<div>\n<style scoped>\n    .dataframe tbody tr th:only-of-type {\n        vertical-align: middle;\n    }\n\n    .dataframe tbody tr th {\n        vertical-align: top;\n    }\n\n    .dataframe thead th {\n        text-align: right;\n    }\n</style>\n<table border=\"1\" class=\"dataframe\">\n  <thead>\n    <tr style=\"text-align: right;\">\n      <th></th>\n      <th>one</th>\n      <th>two</th>\n      <th>three</th>\n      <th>four</th>\n      <th>five</th>\n    </tr>\n  </thead>\n  <tbody>\n    <tr>\n      <th>a</th>\n      <td>-0.681193</td>\n      <td>-0.214976</td>\n      <td>-0.790844</td>\n      <td>bar</td>\n      <td>False</td>\n    </tr>\n    <tr>\n      <th>c</th>\n      <td>-1.313181</td>\n      <td>0.805463</td>\n      <td>1.087081</td>\n      <td>bar</td>\n      <td>False</td>\n    </tr>\n    <tr>\n      <th>e</th>\n      <td>-0.719149</td>\n      <td>0.618022</td>\n      <td>-0.613357</td>\n      <td>bar</td>\n      <td>False</td>\n    </tr>\n    <tr>\n      <th>f</th>\n      <td>1.481327</td>\n      <td>-0.354071</td>\n      <td>1.004685</td>\n      <td>bar</td>\n      <td>True</td>\n    </tr>\n    <tr>\n      <th>h</th>\n      <td>0.477954</td>\n      <td>-1.834039</td>\n      <td>-0.378837</td>\n      <td>bar</td>\n      <td>True</td>\n    </tr>\n  </tbody>\n</table>\n</div>",
            "text/plain": "        one       two     three four   five\na -0.681193 -0.214976 -0.790844  bar  False\nc -1.313181  0.805463  1.087081  bar  False\ne -0.719149  0.618022 -0.613357  bar  False\nf  1.481327 -0.354071  1.004685  bar   True\nh  0.477954 -1.834039 -0.378837  bar   True"
          },
          "metadata": {}
        }
      ]
    },
    {
      "metadata": {},
      "cell_type": "markdown",
      "source": "Adding new rows is also simple. Below we include three extra empty rows."
    },
    {
      "metadata": {
        "trusted": true
      },
      "cell_type": "code",
      "source": "df2 = df.reindex(['a', 'b', 'c', 'd', 'e', 'f', 'g', 'h'])\ndf2",
      "execution_count": 11,
      "outputs": [
        {
          "output_type": "execute_result",
          "execution_count": 11,
          "data": {
            "text/html": "<div>\n<style scoped>\n    .dataframe tbody tr th:only-of-type {\n        vertical-align: middle;\n    }\n\n    .dataframe tbody tr th {\n        vertical-align: top;\n    }\n\n    .dataframe thead th {\n        text-align: right;\n    }\n</style>\n<table border=\"1\" class=\"dataframe\">\n  <thead>\n    <tr style=\"text-align: right;\">\n      <th></th>\n      <th>one</th>\n      <th>two</th>\n      <th>three</th>\n      <th>four</th>\n      <th>five</th>\n    </tr>\n  </thead>\n  <tbody>\n    <tr>\n      <th>a</th>\n      <td>-0.681193</td>\n      <td>-0.214976</td>\n      <td>-0.790844</td>\n      <td>bar</td>\n      <td>False</td>\n    </tr>\n    <tr>\n      <th>b</th>\n      <td>NaN</td>\n      <td>NaN</td>\n      <td>NaN</td>\n      <td>NaN</td>\n      <td>NaN</td>\n    </tr>\n    <tr>\n      <th>c</th>\n      <td>-1.313181</td>\n      <td>0.805463</td>\n      <td>1.087081</td>\n      <td>bar</td>\n      <td>False</td>\n    </tr>\n    <tr>\n      <th>d</th>\n      <td>NaN</td>\n      <td>NaN</td>\n      <td>NaN</td>\n      <td>NaN</td>\n      <td>NaN</td>\n    </tr>\n    <tr>\n      <th>e</th>\n      <td>-0.719149</td>\n      <td>0.618022</td>\n      <td>-0.613357</td>\n      <td>bar</td>\n      <td>False</td>\n    </tr>\n    <tr>\n      <th>f</th>\n      <td>1.481327</td>\n      <td>-0.354071</td>\n      <td>1.004685</td>\n      <td>bar</td>\n      <td>True</td>\n    </tr>\n    <tr>\n      <th>g</th>\n      <td>NaN</td>\n      <td>NaN</td>\n      <td>NaN</td>\n      <td>NaN</td>\n      <td>NaN</td>\n    </tr>\n    <tr>\n      <th>h</th>\n      <td>0.477954</td>\n      <td>-1.834039</td>\n      <td>-0.378837</td>\n      <td>bar</td>\n      <td>True</td>\n    </tr>\n  </tbody>\n</table>\n</div>",
            "text/plain": "        one       two     three four   five\na -0.681193 -0.214976 -0.790844  bar  False\nb       NaN       NaN       NaN  NaN    NaN\nc -1.313181  0.805463  1.087081  bar  False\nd       NaN       NaN       NaN  NaN    NaN\ne -0.719149  0.618022 -0.613357  bar  False\nf  1.481327 -0.354071  1.004685  bar   True\ng       NaN       NaN       NaN  NaN    NaN\nh  0.477954 -1.834039 -0.378837  bar   True"
          },
          "metadata": {}
        }
      ]
    },
    {
      "metadata": {
        "trusted": true
      },
      "cell_type": "code",
      "source": "#This is one way to index a column in pandas\ndf2['one']",
      "execution_count": 12,
      "outputs": [
        {
          "output_type": "execute_result",
          "execution_count": 12,
          "data": {
            "text/plain": "a   -0.681193\nb         NaN\nc   -1.313181\nd         NaN\ne   -0.719149\nf    1.481327\ng         NaN\nh    0.477954\nName: one, dtype: float64"
          },
          "metadata": {}
        }
      ]
    },
    {
      "metadata": {
        "trusted": true
      },
      "cell_type": "code",
      "source": "#This is one way to index a row in pandas\ndf2.ix['a']",
      "execution_count": 15,
      "outputs": [
        {
          "output_type": "execute_result",
          "execution_count": 15,
          "data": {
            "text/plain": "one     -0.681193\ntwo     -0.214976\nthree   -0.790844\nfour          bar\nfive        False\nName: a, dtype: object"
          },
          "metadata": {}
        }
      ]
    },
    {
      "metadata": {},
      "cell_type": "markdown",
      "source": "pandas has two functions *isnull()* and *notnull()* that return boolean objects when called."
    },
    {
      "metadata": {
        "trusted": true
      },
      "cell_type": "code",
      "source": "pd.isnull(df2['one'])",
      "execution_count": 16,
      "outputs": [
        {
          "output_type": "execute_result",
          "execution_count": 16,
          "data": {
            "text/plain": "a    False\nb     True\nc    False\nd     True\ne    False\nf    False\ng     True\nh    False\nName: one, dtype: bool"
          },
          "metadata": {}
        }
      ]
    },
    {
      "metadata": {
        "trusted": true
      },
      "cell_type": "code",
      "source": "pd.notnull(df2['one'])",
      "execution_count": 17,
      "outputs": [
        {
          "output_type": "execute_result",
          "execution_count": 17,
          "data": {
            "text/plain": "a     True\nb    False\nc     True\nd    False\ne     True\nf     True\ng    False\nh     True\nName: one, dtype: bool"
          },
          "metadata": {}
        }
      ]
    },
    {
      "metadata": {},
      "cell_type": "markdown",
      "source": "Missing values propagate naturally through arithmetic operations between pandas objects."
    },
    {
      "metadata": {
        "trusted": true
      },
      "cell_type": "code",
      "source": "a = df[['one','two']]\na['one']['a':'e'] = float('nan')\na",
      "execution_count": 18,
      "outputs": [
        {
          "output_type": "stream",
          "text": "/home/nbuser/anaconda3_501/lib/python3.6/site-packages/pandas/core/series.py:789: SettingWithCopyWarning: \nA value is trying to be set on a copy of a slice from a DataFrame\n\nSee the caveats in the documentation: http://pandas.pydata.org/pandas-docs/stable/indexing.html#indexing-view-versus-copy\n  self._set_with(key, value)\n/home/nbuser/anaconda3_501/lib/python3.6/site-packages/IPython/core/interactiveshell.py:3267: SettingWithCopyWarning: \nA value is trying to be set on a copy of a slice from a DataFrame\n\nSee the caveats in the documentation: http://pandas.pydata.org/pandas-docs/stable/indexing.html#indexing-view-versus-copy\n  exec(code_obj, self.user_global_ns, self.user_ns)\n",
          "name": "stderr"
        },
        {
          "output_type": "execute_result",
          "execution_count": 18,
          "data": {
            "text/html": "<div>\n<style scoped>\n    .dataframe tbody tr th:only-of-type {\n        vertical-align: middle;\n    }\n\n    .dataframe tbody tr th {\n        vertical-align: top;\n    }\n\n    .dataframe thead th {\n        text-align: right;\n    }\n</style>\n<table border=\"1\" class=\"dataframe\">\n  <thead>\n    <tr style=\"text-align: right;\">\n      <th></th>\n      <th>one</th>\n      <th>two</th>\n    </tr>\n  </thead>\n  <tbody>\n    <tr>\n      <th>a</th>\n      <td>NaN</td>\n      <td>-0.214976</td>\n    </tr>\n    <tr>\n      <th>c</th>\n      <td>NaN</td>\n      <td>0.805463</td>\n    </tr>\n    <tr>\n      <th>e</th>\n      <td>NaN</td>\n      <td>0.618022</td>\n    </tr>\n    <tr>\n      <th>f</th>\n      <td>1.481327</td>\n      <td>-0.354071</td>\n    </tr>\n    <tr>\n      <th>h</th>\n      <td>0.477954</td>\n      <td>-1.834039</td>\n    </tr>\n  </tbody>\n</table>\n</div>",
            "text/plain": "        one       two\na       NaN -0.214976\nc       NaN  0.805463\ne       NaN  0.618022\nf  1.481327 -0.354071\nh  0.477954 -1.834039"
          },
          "metadata": {}
        }
      ]
    },
    {
      "metadata": {
        "trusted": true
      },
      "cell_type": "code",
      "source": "b = df[['one','two','three']]\nb",
      "execution_count": 19,
      "outputs": [
        {
          "output_type": "execute_result",
          "execution_count": 19,
          "data": {
            "text/html": "<div>\n<style scoped>\n    .dataframe tbody tr th:only-of-type {\n        vertical-align: middle;\n    }\n\n    .dataframe tbody tr th {\n        vertical-align: top;\n    }\n\n    .dataframe thead th {\n        text-align: right;\n    }\n</style>\n<table border=\"1\" class=\"dataframe\">\n  <thead>\n    <tr style=\"text-align: right;\">\n      <th></th>\n      <th>one</th>\n      <th>two</th>\n      <th>three</th>\n    </tr>\n  </thead>\n  <tbody>\n    <tr>\n      <th>a</th>\n      <td>-0.681193</td>\n      <td>-0.214976</td>\n      <td>-0.790844</td>\n    </tr>\n    <tr>\n      <th>c</th>\n      <td>-1.313181</td>\n      <td>0.805463</td>\n      <td>1.087081</td>\n    </tr>\n    <tr>\n      <th>e</th>\n      <td>-0.719149</td>\n      <td>0.618022</td>\n      <td>-0.613357</td>\n    </tr>\n    <tr>\n      <th>f</th>\n      <td>1.481327</td>\n      <td>-0.354071</td>\n      <td>1.004685</td>\n    </tr>\n    <tr>\n      <th>h</th>\n      <td>0.477954</td>\n      <td>-1.834039</td>\n      <td>-0.378837</td>\n    </tr>\n  </tbody>\n</table>\n</div>",
            "text/plain": "        one       two     three\na -0.681193 -0.214976 -0.790844\nc -1.313181  0.805463  1.087081\ne -0.719149  0.618022 -0.613357\nf  1.481327 -0.354071  1.004685\nh  0.477954 -1.834039 -0.378837"
          },
          "metadata": {}
        }
      ]
    },
    {
      "metadata": {
        "trusted": true
      },
      "cell_type": "code",
      "source": "a + b",
      "execution_count": 20,
      "outputs": [
        {
          "output_type": "execute_result",
          "execution_count": 20,
          "data": {
            "text/html": "<div>\n<style scoped>\n    .dataframe tbody tr th:only-of-type {\n        vertical-align: middle;\n    }\n\n    .dataframe tbody tr th {\n        vertical-align: top;\n    }\n\n    .dataframe thead th {\n        text-align: right;\n    }\n</style>\n<table border=\"1\" class=\"dataframe\">\n  <thead>\n    <tr style=\"text-align: right;\">\n      <th></th>\n      <th>one</th>\n      <th>three</th>\n      <th>two</th>\n    </tr>\n  </thead>\n  <tbody>\n    <tr>\n      <th>a</th>\n      <td>NaN</td>\n      <td>NaN</td>\n      <td>-0.429951</td>\n    </tr>\n    <tr>\n      <th>c</th>\n      <td>NaN</td>\n      <td>NaN</td>\n      <td>1.610925</td>\n    </tr>\n    <tr>\n      <th>e</th>\n      <td>NaN</td>\n      <td>NaN</td>\n      <td>1.236044</td>\n    </tr>\n    <tr>\n      <th>f</th>\n      <td>2.962654</td>\n      <td>NaN</td>\n      <td>-0.708143</td>\n    </tr>\n    <tr>\n      <th>h</th>\n      <td>0.955909</td>\n      <td>NaN</td>\n      <td>-3.668078</td>\n    </tr>\n  </tbody>\n</table>\n</div>",
            "text/plain": "        one  three       two\na       NaN    NaN -0.429951\nc       NaN    NaN  1.610925\ne       NaN    NaN  1.236044\nf  2.962654    NaN -0.708143\nh  0.955909    NaN -3.668078"
          },
          "metadata": {}
        }
      ]
    },
    {
      "metadata": {
        "trusted": true
      },
      "cell_type": "code",
      "source": "a['one'].dropna()",
      "execution_count": 21,
      "outputs": [
        {
          "output_type": "execute_result",
          "execution_count": 21,
          "data": {
            "text/plain": "f    1.481327\nh    0.477954\nName: one, dtype: float64"
          },
          "metadata": {}
        }
      ]
    },
    {
      "metadata": {},
      "cell_type": "markdown",
      "source": "Summary statistics all account for missing values. \n\n*   When summing data, NA (missing) values will be treated as zero\n*   If the data are all NA, the result will be NA\n*   Methods like cumsum and cumprod ignore NA values, but preserve them in the resulting arrays"
    },
    {
      "metadata": {
        "trusted": true
      },
      "cell_type": "code",
      "source": "a",
      "execution_count": 22,
      "outputs": [
        {
          "output_type": "execute_result",
          "execution_count": 22,
          "data": {
            "text/html": "<div>\n<style scoped>\n    .dataframe tbody tr th:only-of-type {\n        vertical-align: middle;\n    }\n\n    .dataframe tbody tr th {\n        vertical-align: top;\n    }\n\n    .dataframe thead th {\n        text-align: right;\n    }\n</style>\n<table border=\"1\" class=\"dataframe\">\n  <thead>\n    <tr style=\"text-align: right;\">\n      <th></th>\n      <th>one</th>\n      <th>two</th>\n    </tr>\n  </thead>\n  <tbody>\n    <tr>\n      <th>a</th>\n      <td>NaN</td>\n      <td>-0.214976</td>\n    </tr>\n    <tr>\n      <th>c</th>\n      <td>NaN</td>\n      <td>0.805463</td>\n    </tr>\n    <tr>\n      <th>e</th>\n      <td>NaN</td>\n      <td>0.618022</td>\n    </tr>\n    <tr>\n      <th>f</th>\n      <td>1.481327</td>\n      <td>-0.354071</td>\n    </tr>\n    <tr>\n      <th>h</th>\n      <td>0.477954</td>\n      <td>-1.834039</td>\n    </tr>\n  </tbody>\n</table>\n</div>",
            "text/plain": "        one       two\na       NaN -0.214976\nc       NaN  0.805463\ne       NaN  0.618022\nf  1.481327 -0.354071\nh  0.477954 -1.834039"
          },
          "metadata": {}
        }
      ]
    },
    {
      "metadata": {
        "trusted": true
      },
      "cell_type": "code",
      "source": "a['one'].sum()",
      "execution_count": 23,
      "outputs": [
        {
          "output_type": "execute_result",
          "execution_count": 23,
          "data": {
            "text/plain": "1.959281543287707"
          },
          "metadata": {}
        }
      ]
    },
    {
      "metadata": {
        "trusted": true
      },
      "cell_type": "code",
      "source": "a.mean(1)",
      "execution_count": 24,
      "outputs": [
        {
          "output_type": "execute_result",
          "execution_count": 24,
          "data": {
            "text/plain": "a   -0.214976\nc    0.805463\ne    0.618022\nf    0.563628\nh   -0.678042\ndtype: float64"
          },
          "metadata": {}
        }
      ]
    },
    {
      "metadata": {},
      "cell_type": "markdown",
      "source": "*This is just the bare minimum. pandas has a lot more missing data functionality.*"
    },
    {
      "metadata": {},
      "cell_type": "markdown",
      "source": "## Histograms"
    },
    {
      "metadata": {},
      "cell_type": "markdown",
      "source": "#### Using pandas"
    },
    {
      "metadata": {},
      "cell_type": "markdown",
      "source": "Plotting histograms using pandas is quite straightforward. Using the above *values2* series, we can simply call the *hist()* method."
    },
    {
      "metadata": {
        "trusted": true
      },
      "cell_type": "code",
      "source": "pdhist = values2.hist()",
      "execution_count": 25,
      "outputs": []
    },
    {
      "metadata": {},
      "cell_type": "markdown",
      "source": "Parameters can be used to change the number of bins, color, transparency, etc."
    },
    {
      "metadata": {
        "trusted": true
      },
      "cell_type": "code",
      "source": "pdhist2 = values2.hist(bins=20, color='r',alpha=0.4, figsize=(10,6))",
      "execution_count": 26,
      "outputs": [
        {
          "output_type": "display_data",
          "data": {
            "image/png": "[encoded data removed]",
            "text/plain": "<Figure size 720x432 with 1 Axes>"
          },
          "metadata": {
            "needs_background": "light"
          }
        }
      ]
    },
    {
      "metadata": {},
      "cell_type": "markdown",
      "source": "#### Using numpy + matplotlib"
    },
    {
      "metadata": {},
      "cell_type": "markdown",
      "source": "While the pandas data structure has a method that automatically wraps around a call to the *hist()* method of the plotting library Matplotlib, we can achieve the same result by performing that call manually on our *values1* ndarray."
    },
    {
      "metadata": {
        "trusted": true
      },
      "cell_type": "code",
      "source": "import matplotlib.pyplot as plt # Required for plotting",
      "execution_count": 27,
      "outputs": []
    },
    {
      "metadata": {
        "trusted": true
      },
      "cell_type": "code",
      "source": "nphist = plt.hist(values1)",
      "execution_count": 28,
      "outputs": [
        {
          "output_type": "display_data",
          "data": {
            "image/png": "[encoded data removed]",
            "text/plain": "<Figure size 432x288 with 1 Axes>"
          },
          "metadata": {
            "needs_background": "light"
          }
        }
      ]
    },
    {
      "metadata": {},
      "cell_type": "markdown",
      "source": "## Boxplots"
    },
    {
      "metadata": {},
      "cell_type": "markdown",
      "source": "#### Using pandas"
    },
    {
      "metadata": {},
      "cell_type": "markdown",
      "source": "pandas DataFrames have a boxplot method that allows you to visualize the distribution of values within each column."
    },
    {
      "metadata": {
        "trusted": true
      },
      "cell_type": "code",
      "source": "df = pd.DataFrame(np.random.rand(10,2), columns=['Col1', 'Col2'] )",
      "execution_count": 29,
      "outputs": []
    },
    {
      "metadata": {
        "trusted": true
      },
      "cell_type": "code",
      "source": "df.head()",
      "execution_count": 30,
      "outputs": [
        {
          "output_type": "execute_result",
          "execution_count": 30,
          "data": {
            "text/html": "<div>\n<style scoped>\n    .dataframe tbody tr th:only-of-type {\n        vertical-align: middle;\n    }\n\n    .dataframe tbody tr th {\n        vertical-align: top;\n    }\n\n    .dataframe thead th {\n        text-align: right;\n    }\n</style>\n<table border=\"1\" class=\"dataframe\">\n  <thead>\n    <tr style=\"text-align: right;\">\n      <th></th>\n      <th>Col1</th>\n      <th>Col2</th>\n    </tr>\n  </thead>\n  <tbody>\n    <tr>\n      <th>0</th>\n      <td>0.511496</td>\n      <td>0.225483</td>\n    </tr>\n    <tr>\n      <th>1</th>\n      <td>0.246599</td>\n      <td>0.854061</td>\n    </tr>\n    <tr>\n      <th>2</th>\n      <td>0.254457</td>\n      <td>0.629729</td>\n    </tr>\n    <tr>\n      <th>3</th>\n      <td>0.428012</td>\n      <td>0.352625</td>\n    </tr>\n    <tr>\n      <th>4</th>\n      <td>0.163232</td>\n      <td>0.642516</td>\n    </tr>\n  </tbody>\n</table>\n</div>",
            "text/plain": "       Col1      Col2\n0  0.511496  0.225483\n1  0.246599  0.854061\n2  0.254457  0.629729\n3  0.428012  0.352625\n4  0.163232  0.642516"
          },
          "metadata": {}
        }
      ]
    },
    {
      "metadata": {
        "trusted": true
      },
      "cell_type": "code",
      "source": "box = df.boxplot(grid=False)",
      "execution_count": 31,
      "outputs": [
        {
          "output_type": "display_data",
          "data": {
            "image/png": "[encoded data removed]",
            "text/plain": "<Figure size 432x288 with 1 Axes>"
          },
          "metadata": {
            "needs_background": "light"
          }
        }
      ]
    },
    {
      "metadata": {},
      "cell_type": "markdown",
      "source": "#### Using numpy + matplotlib"
    },
    {
      "metadata": {
        "trusted": true
      },
      "cell_type": "code",
      "source": "fig = plt.figure()\nax = fig.add_subplot(111)\n\nx1 = np.random.normal(0,1,50)\nx2 = np.random.normal(1,1,50)\n\nnpbox = ax.boxplot([x1,x2])",
      "execution_count": 32,
      "outputs": [
        {
          "output_type": "display_data",
          "data": {
            "image/png": "[encoded data removed]",
            "text/plain": "<Figure size 432x288 with 1 Axes>"
          },
          "metadata": {
            "needs_background": "light"
          }
        }
      ]
    },
    {
      "metadata": {},
      "cell_type": "markdown",
      "source": "## Scatterplots"
    },
    {
      "metadata": {},
      "cell_type": "markdown",
      "source": "#### Using pandas"
    },
    {
      "metadata": {},
      "cell_type": "markdown",
      "source": "Let's define a dataframe containing 2 columns, each with 200 random numbers < 1."
    },
    {
      "metadata": {
        "trusted": true
      },
      "cell_type": "code",
      "source": "df = pd.DataFrame(np.random.rand(200,2))",
      "execution_count": 33,
      "outputs": []
    },
    {
      "metadata": {
        "trusted": true
      },
      "cell_type": "code",
      "source": "pdscatter = plt.scatter(df[0], df[1])",
      "execution_count": 34,
      "outputs": [
        {
          "output_type": "display_data",
          "data": {
            "image/png": "[encoded data removed]",
            "text/plain": "<Figure size 432x288 with 1 Axes>"
          },
          "metadata": {
            "needs_background": "light"
          }
        }
      ]
    },
    {
      "metadata": {},
      "cell_type": "markdown",
      "source": "#### Using numpy + matplotlib"
    },
    {
      "metadata": {
        "trusted": true
      },
      "cell_type": "code",
      "source": "x = np.random.randn(200)\ny = np.random.randn(200)\n\nfig = plt.figure()\nax = fig.add_subplot(111)\n\nnpscatter = ax.scatter(x,y,color='r')",
      "execution_count": 35,
      "outputs": [
        {
          "output_type": "display_data",
          "data": {
            "image/png": "[encoded data removed]",
            "text/plain": "<Figure size 432x288 with 1 Axes>"
          },
          "metadata": {
            "needs_background": "light"
          }
        }
      ]
    },
    {
      "metadata": {
        "trusted": true
      },
      "cell_type": "code",
      "source": "",
      "execution_count": null,
      "outputs": []
    },
    {
      "metadata": {
        "trusted": true
      },
      "cell_type": "code",
      "source": "",
      "execution_count": null,
      "outputs": []
    },
    {
      "metadata": {
        "trusted": true
      },
      "cell_type": "code",
      "source": "",
      "execution_count": null,
      "outputs": []
    },
    {
      "metadata": {
        "trusted": true
      },
      "cell_type": "code",
      "source": "",
      "execution_count": null,
      "outputs": []
    },
    {
      "metadata": {
        "trusted": true
      },
      "cell_type": "code",
      "source": "",
      "execution_count": null,
      "outputs": []
    }
  ],
  "metadata": {
    "kernelspec": {
      "name": "python36",
      "display_name": "Python 3.6",
      "language": "python"
    },
    "language_info": {
      "mimetype": "text/x-python",
      "nbconvert_exporter": "python",
      "name": "python",
      "pygments_lexer": "ipython3",
      "version": "3.6.6",
      "file_extension": ".py",
      "codemirror_mode": {
        "version": 3,
        "name": "ipython"
      }
    }
  },
  "nbformat": 4,
  "nbformat_minor": 1
}