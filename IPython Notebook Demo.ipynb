{
  "cells": [
    {
      "metadata": {
        "trusted": false
      },
      "cell_type": "code",
      "source": "# Regular Python code can be written and executed:\na = 3",
      "execution_count": 1,
      "outputs": []
    },
    {
      "metadata": {
        "trusted": false
      },
      "cell_type": "code",
      "source": "a ** 3",
      "execution_count": 2,
      "outputs": [
        {
          "metadata": {},
          "output_type": "execute_result",
          "execution_count": 2,
          "data": {
            "text/plain": "27"
          }
        }
      ]
    },
    {
      "metadata": {},
      "cell_type": "markdown",
      "source": "# Additionally, you can insert raw text:"
    },
    {
      "metadata": {},
      "cell_type": "markdown",
      "source": "### in multiple formats"
    },
    {
      "metadata": {},
      "cell_type": "markdown",
      "source": "You can also insert LaTeX code"
    },
    {
      "metadata": {},
      "cell_type": "markdown",
      "source": "## $$d = \\sqrt{\\sum{x-y^2}} \\times \\int{\\frac{z}{w_2+w_3}}$$"
    },
    {
      "metadata": {},
      "cell_type": "markdown",
      "source": "We can display images in jpeg, png, gif:"
    },
    {
      "metadata": {
        "trusted": true
      },
      "cell_type": "code",
      "source": "from IPython.core.display import Image \nImage(width=200,url='http://www.ittralee.ie/en/media/Media,5185,en.jpg')",
      "execution_count": 3,
      "outputs": [
        {
          "output_type": "execute_result",
          "execution_count": 3,
          "data": {
            "text/plain": "<IPython.core.display.Image object>",
            "text/html": "<img src=\"http://www.ittralee.ie/en/media/Media,5185,en.jpg\" width=\"200\"/>"
          },
          "metadata": {}
        }
      ]
    },
    {
      "metadata": {},
      "cell_type": "markdown",
      "source": "Even YouTube videos can be embedded to notebook documents:"
    },
    {
      "metadata": {
        "trusted": true
      },
      "cell_type": "code",
      "source": "from IPython.display import YouTubeVideo\nYouTubeVideo('e2sHPdmMzXs', start=0)",
      "execution_count": 4,
      "outputs": [
        {
          "output_type": "execute_result",
          "execution_count": 4,
          "data": {
            "text/plain": "<IPython.lib.display.YouTubeVideo at 0x7f0f68c8e650>",
            "image/jpeg": "[encoded data removed]",
            "text/html": "\n        <iframe\n            width=\"400\"\n            height=\"300\"\n            src=\"https://www.youtube.com/embed/e2sHPdmMzXs?start=0\"\n            frameborder=\"0\"\n            allowfullscreen\n        ></iframe>\n        "
          },
          "metadata": {}
        }
      ]
    },
    {
      "metadata": {},
      "cell_type": "markdown",
      "source": "And plots can be displayed inline"
    },
    {
      "metadata": {
        "trusted": false
      },
      "cell_type": "code",
      "source": "import numpy as np\nimport scipy as sp\nimport matplotlib.pyplot as plt",
      "execution_count": 5,
      "outputs": []
    },
    {
      "metadata": {
        "trusted": false
      },
      "cell_type": "code",
      "source": "x = np.linspace(0,5)\nplt.plot(x,sin(x))",
      "execution_count": 6,
      "outputs": [
        {
          "metadata": {},
          "output_type": "execute_result",
          "execution_count": 6,
          "data": {
            "text/plain": "[<matplotlib.lines.Line2D at 0x9f196ec>]"
          }
        },
        {
          "metadata": {},
          "output_type": "display_data",
          "data": {
            "text/plain": "<matplotlib.figure.Figure at 0x9e62a6c>",
            "image/png": "[encoded data removed]"
          }
        }
      ]
    },
    {
      "metadata": {},
      "cell_type": "markdown",
      "source": "Cells can be easily deleted, created, moved around, etc. All operations have simple keyboard shortcuts. CTRL+M+H displays a list of keyboard shortcuts."
    },
    {
      "metadata": {
        "trusted": true
      },
      "cell_type": "code",
      "source": "z = input()\nprint(z)\n",
      "execution_count": 7,
      "outputs": [
        {
          "output_type": "stream",
          "name": "stdout",
          "text": "\"Andrew\"\nAndrew\n"
        }
      ]
    },
    {
      "metadata": {},
      "cell_type": "markdown",
      "source": "Additionally:\n\n*   Tab completion\n*   Function definition lookup\n*   Very easy to go back and re-execute previous lines of code\n*   Can call shell commands\n*   Consistent look across different browsers\n*   Static versions of notebooks (like this one) can be viewed by anyone with a browser\n*   And much, more..."
    }
  ],
  "metadata": {
    "kernelspec": {
      "name": "python2",
      "display_name": "Python 2",
      "language": "python"
    },
    "language_info": {
      "mimetype": "text/x-python",
      "nbconvert_exporter": "python",
      "name": "python",
      "pygments_lexer": "ipython2",
      "version": "2.7.15",
      "file_extension": ".py",
      "codemirror_mode": {
        "version": 2,
        "name": "ipython"
      }
    }
  },
  "nbformat": 4,
  "nbformat_minor": 1
}